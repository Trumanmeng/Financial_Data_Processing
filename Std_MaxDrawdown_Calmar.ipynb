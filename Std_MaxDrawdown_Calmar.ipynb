{
 "cells": [
  {
   "cell_type": "markdown",
   "metadata": {},
   "source": [
    "老师您好，我叫孟干，来自中央财经大学金融学院。\n",
    "以下是我作业一的代码，请您查看。"
   ]
  },
  {
   "cell_type": "code",
   "execution_count": null,
   "metadata": {},
   "outputs": [],
   "source": [
    "#1、调取相关数据分析库\n",
    "import os\n",
    "import pandas as pd\n",
    "import numpy as np\n",
    "import datetime\n",
    "os.getcwd ()\n",
    "import matplotlib.pyplot as plt"
   ]
  },
  {
   "cell_type": "code",
   "execution_count": 2,
   "metadata": {},
   "outputs": [],
   "source": [
    "#2、读取数据库，为工作簿的第一个Sheet，并剔除其前三行，将第一列（日期列）设为索引列。\n",
    "dataset=pd.read_excel(\"作业相关数据.xlsx\",\"作业一\",skiprows=[0,1,2],index_col=0,parse_dates=True)"
   ]
  },
  {
   "cell_type": "code",
   "execution_count": 3,
   "metadata": {},
   "outputs": [],
   "source": [
    "#3、变更时间序列频率为月，并对空值进行填充，取空值前一天为该值。\n",
    "dataset_monthly=dataset.asfreq(\"1M\",method=\"ffill\")"
   ]
  },
  {
   "cell_type": "code",
   "execution_count": 4,
   "metadata": {},
   "outputs": [],
   "source": [
    "#4、读取中证800指数，存为变量equity_series；上证国债指数存为变量debt_series，设定无风险利率rf=1.5%。\n",
    "equity_series=dataset_monthly.iloc[:,0]\n",
    "debt_series=dataset_monthly.iloc[:,1]\n",
    "rf=0.015"
   ]
  },
  {
   "cell_type": "code",
   "execution_count": 5,
   "metadata": {},
   "outputs": [],
   "source": [
    "#5、构建波动率函数。\n",
    "def volatility(series:pd.Series):\n",
    "    return series.pct_change().std()"
   ]
  },
  {
   "cell_type": "code",
   "execution_count": 6,
   "metadata": {},
   "outputs": [],
   "source": [
    "#6、构建累计收益率函数。\n",
    "def cumulative_return(series:pd.Series):\n",
    "    return series.dropna()[-1]/series.dropna()[0]-1"
   ]
  },
  {
   "cell_type": "code",
   "execution_count": 7,
   "metadata": {},
   "outputs": [],
   "source": [
    "#7、构建计算投资年数函数。\n",
    "def get_years(series:pd.Series):\n",
    "    start_date=series.index[0]\n",
    "    end_date=series.index[-1]\n",
    "    return (end_date-start_date).days/365.25"
   ]
  },
  {
   "cell_type": "code",
   "execution_count": 8,
   "metadata": {},
   "outputs": [],
   "source": [
    "#8、构建复合年化收益率函数。\n",
    "def cagr(series: pd.Series):\n",
    "    start_price = series.iloc[0]\n",
    "    end_price = series.iloc[-1]\n",
    "    value_factor = end_price / start_price\n",
    "    year_past = get_years(series)\n",
    "    return (value_factor ** (1 / year_past)) - 1"
   ]
  },
  {
   "cell_type": "code",
   "execution_count": 9,
   "metadata": {},
   "outputs": [],
   "source": [
    "#9、构建夏普比率函数。\n",
    "def sharpe_ratio(series:pd.Series,rf=0.015):\n",
    "    return (calculate_cagr(series)-rf)/volatility(series)"
   ]
  },
  {
   "cell_type": "code",
   "execution_count": 10,
   "metadata": {},
   "outputs": [],
   "source": [
    "#10、构建最大回撤函数。\n",
    "def max_drawdown(series:pd.Series):\n",
    "    previous_peaks=series.cummax()\n",
    "    drawdown=-(series-previous_peaks)/previous_peaks\n",
    "    return drawdown.max()"
   ]
  },
  {
   "cell_type": "code",
   "execution_count": 11,
   "metadata": {},
   "outputs": [],
   "source": [
    "#11、构建Calmar比率函数。\n",
    "def calmar_ratio(series:pd.Series):\n",
    "    return cagr(series)/max_drawdown(series)"
   ]
  },
  {
   "cell_type": "code",
   "execution_count": 12,
   "metadata": {},
   "outputs": [],
   "source": [
    "#12、构造再平衡函数。\n",
    "#计算每12个月的累计收益率（每年第一个月重新计算，即cumprod的对象为每年的12个月）。\n",
    "dataset_return=dataset_monthly.pct_change().dropna()\n",
    "return_12m=(dataset_return+1).groupby(dataset_return.index.year).cumprod()\n",
    "#将累计收益率矩阵第一行设定为1，方便矩阵相乘。\n",
    "return_12m.loc[dataset_monthly.index[0]]=1\n",
    "return_12m=return_12m.sort_index()\n",
    "#制作一个矩阵，其每年各月投资额为上年年末投资用目标配比再平衡的结果，用其与上述每12个月累计收益率相乘，即为再平衡后的投资结果。\n",
    "def rebalanced_invest_normed(dataset:pd.DataFrame,weight):\n",
    "    #将资产价格标准化，方便与资产配比矩阵相乘，得出单位投资（1元）的回报值。\n",
    "    dataset_norm=dataset/np.array(dataset.iloc[0,:])*weight\n",
    "    dataset_copy=dataset_norm.copy()\n",
    "    for year in range(round(get_years(dataset_norm))+1):\n",
    "        dataset_copy.loc[f\"{2005+year}\",:]=float(dataset_norm.loc[f\"{2004+year}-12\"].sum(axis=1))*weight\n",
    "    #计算每年再平衡后的投资结果\n",
    "    return (dataset_copy.shift()*return_12m).sum(axis=1).dropna()"
   ]
  },
  {
   "cell_type": "code",
   "execution_count": 13,
   "metadata": {},
   "outputs": [],
   "source": [
    "#13、构建投资组合并计算其再平衡后收益。\n",
    "weight_1=np.array([0.4,0.6])\n",
    "weight_2=np.array([0.3,0.7])\n",
    "weight_3=np.array([0.2,0.8])\n",
    "portfolio_1=rebalanced_invest_normed(dataset_monthly,weight_1)\n",
    "portfolio_2=rebalanced_invest_normed(dataset_monthly,weight_2)\n",
    "portfolio_3=rebalanced_invest_normed(dataset_monthly,weight_3)"
   ]
  },
  {
   "cell_type": "code",
   "execution_count": 14,
   "metadata": {},
   "outputs": [
    {
     "name": "stdout",
     "output_type": "stream",
     "text": [
      "中证500在2005-01-01至2021-12-31间的波动率为 8.31 %\n",
      "上证国债在2005-01-01至2021-12-31间的波动率为 0.45 %\n",
      "4股6债在2005-01-01至2021-12-31间的波动率为 3.27 %\n",
      "3股7债在2005-01-01至2021-12-31间的波动率为 2.44 %\n",
      "2股8债在2005-01-01至2021-12-31间的波动率为 1.62 %\n"
     ]
    }
   ],
   "source": [
    "#14、计算不同投资组合的波动率大小。\n",
    "#设定计算的时间区间\n",
    "day_1=\"2005-01-01\"\n",
    "day_2=\"2021-12-31\"\n",
    "vol_1=dataset_monthly[day_1:day_2].iloc[:,0].pct_change().std()\n",
    "vol_2=dataset_monthly[day_1:day_2].iloc[:,1].pct_change().std()\n",
    "vol_3=np.sqrt(np.dot(weight_1.T,np.dot(dataset_monthly[day_1:day_2].pct_change().cov(),weight_1)))\n",
    "vol_4=np.sqrt(np.dot(weight_2.T,np.dot(dataset_monthly[day_1:day_2].pct_change().cov(),weight_2)))\n",
    "vol_5=np.sqrt(np.dot(weight_3.T,np.dot(dataset_monthly[day_1:day_2].pct_change().cov(),weight_3)))\n",
    "print(\"中证500在{}至{}间的波动率为\".format(day_1,day_2),\"%.2f\"% (vol_1*100),\"%\")\n",
    "print(\"上证国债在{}至{}间的波动率为\".format(day_1,day_2),\"%.2f\"% (vol_2*100),\"%\")\n",
    "print(\"4股6债在{}至{}间的波动率为\".format(day_1,day_2),\"%.2f\"% (vol_3*100),\"%\")\n",
    "print(\"3股7债在{}至{}间的波动率为\".format(day_1,day_2),\"%.2f\"% (vol_4*100),\"%\")\n",
    "print(\"2股8债在{}至{}间的波动率为\".format(day_1,day_2),\"%.2f\"% (vol_5*100),\"%\")"
   ]
  },
  {
   "cell_type": "code",
   "execution_count": 15,
   "metadata": {},
   "outputs": [
    {
     "name": "stdout",
     "output_type": "stream",
     "text": [
      "中证500在2005-01-01至2021-12-31间的累计收益率为 465.07 %\n",
      "上证国债在2005-01-01至2021-12-31间的累计收益率为 96.92 %\n",
      "4股6债在2005-01-01至2021-12-31间的累计收益率为 241.92 %\n",
      "3股7债在2005-01-01至2021-12-31间的累计收益率为 205.40 %\n",
      "2股8债在2005-01-01至2021-12-31间的累计收益率为 169.07 %\n"
     ]
    }
   ],
   "source": [
    "#15、计算不同投资组合的累计收益率大小。\n",
    "cum_1=cumulative_return(dataset_monthly[day_1:day_2].iloc[:,0])\n",
    "cum_2=cumulative_return(dataset_monthly[day_1:day_2].iloc[:,1])\n",
    "cum_3=cumulative_return(portfolio_1[day_1:day_2])\n",
    "cum_4=cumulative_return(portfolio_2[day_1:day_2])\n",
    "cum_5=cumulative_return(portfolio_3[day_1:day_2])\n",
    "print(\"中证500在{}至{}间的累计收益率为\".format(day_1,day_2),\"%.2f\"% (cum_1*100),\"%\")\n",
    "print(\"上证国债在{}至{}间的累计收益率为\".format(day_1,day_2),\"%.2f\"% (cum_2*100),\"%\")\n",
    "print(\"4股6债在{}至{}间的累计收益率为\".format(day_1,day_2),\"%.2f\"% (cum_3*100),\"%\")\n",
    "print(\"3股7债在{}至{}间的累计收益率为\".format(day_1,day_2),\"%.2f\"% (cum_4*100),\"%\")\n",
    "print(\"2股8债在{}至{}间的累计收益率为\".format(day_1,day_2),\"%.2f\"% (cum_5*100),\"%\")"
   ]
  },
  {
   "cell_type": "code",
   "execution_count": 16,
   "metadata": {},
   "outputs": [
    {
     "name": "stdout",
     "output_type": "stream",
     "text": [
      "中证500在2005-01-01至2021-12-31间的复合年化收益率为 10.78 %\n",
      "上证国债在2005-01-01至2021-12-31间的复合年化收益率为 4.09 %\n",
      "4股6债在2005-01-01至2021-12-31间的复合年化收益率为 7.54 %\n",
      "3股7债在2005-01-01至2021-12-31间的复合年化收益率为 6.82 %\n",
      "2股8债在2005-01-01至2021-12-31间的复合年化收益率为 6.03 %\n"
     ]
    }
   ],
   "source": [
    "#16、计算不同投资组合的复合年化收益率大小。\n",
    "cagr_1=cagr(dataset_monthly[day_1:day_2].iloc[:,0])\n",
    "cagr_2=cagr(dataset_monthly[day_1:day_2].iloc[:,1])\n",
    "cagr_3=cagr(portfolio_1[day_1:day_2])\n",
    "cagr_4=cagr(portfolio_2[day_1:day_2])\n",
    "cagr_5=cagr(portfolio_3[day_1:day_2])\n",
    "print(\"中证500在{}至{}间的复合年化收益率为\".format(day_1,day_2),\"%.2f\"% (cagr_1*100),\"%\")\n",
    "print(\"上证国债在{}至{}间的复合年化收益率为\".format(day_1,day_2),\"%.2f\"% (cagr_2*100),\"%\")\n",
    "print(\"4股6债在{}至{}间的复合年化收益率为\".format(day_1,day_2),\"%.2f\"% (cagr_3*100),\"%\")\n",
    "print(\"3股7债在{}至{}间的复合年化收益率为\".format(day_1,day_2),\"%.2f\"% (cagr_4*100),\"%\")\n",
    "print(\"2股8债在{}至{}间的复合年化收益率为\".format(day_1,day_2),\"%.2f\"% (cagr_5*100),\"%\")"
   ]
  },
  {
   "cell_type": "code",
   "execution_count": 17,
   "metadata": {},
   "outputs": [
    {
     "name": "stdout",
     "output_type": "stream",
     "text": [
      "中证500在2005-01-01至2021-12-31间的夏普比率为 1.12\n",
      "上证国债在2005-01-01至2021-12-31间的夏普比率为 5.70\n",
      "4股6债在2005-01-01至2021-12-31间的夏普比率为 1.85\n",
      "3股7债在2005-01-01至2021-12-31间的夏普比率为 2.18\n",
      "2股8债在2005-01-01至2021-12-31间的夏普比率为 2.79\n"
     ]
    }
   ],
   "source": [
    "#17、计算不同投资组合的夏普比率大小。\n",
    "print(\"中证500在{}至{}间的夏普比率为\".format(day_1,day_2),\"%.2f\"% ((cagr_1-rf)/vol_1))\n",
    "print(\"上证国债在{}至{}间的夏普比率为\".format(day_1,day_2),\"%.2f\"% ((cagr_2-rf)/vol_2))\n",
    "print(\"4股6债在{}至{}间的夏普比率为\".format(day_1,day_2),\"%.2f\"% ((cagr_3-rf)/vol_3))\n",
    "print(\"3股7债在{}至{}间的夏普比率为\".format(day_1,day_2),\"%.2f\"% ((cagr_4-rf)/vol_4))\n",
    "print(\"2股8债在{}至{}间的夏普比率为\".format(day_1,day_2),\"%.2f\"% ((cagr_5-rf)/vol_5))"
   ]
  },
  {
   "cell_type": "code",
   "execution_count": 18,
   "metadata": {},
   "outputs": [
    {
     "name": "stdout",
     "output_type": "stream",
     "text": [
      "中证500在2005-01-01至2021-12-31间的Calmar比率为 0.15\n",
      "上证国债在2005-01-01至2021-12-31间的Calmar比率为 2.09\n",
      "4股6债在2005-01-01至2021-12-31间的Calmar比率为 0.15\n",
      "3股7债在2005-01-01至2021-12-31间的Calmar比率为 0.16\n",
      "2股8债在2005-01-01至2021-12-31间的Calmar比率为 0.19\n"
     ]
    }
   ],
   "source": [
    "#18、计算不同投资组合的Calmar比率大小。\n",
    "calmar_1=calmar_ratio(dataset_monthly[day_1:day_2].iloc[:,0])\n",
    "calmar_2=calmar_ratio(dataset_monthly[day_1:day_2].iloc[:,1])\n",
    "calmar_3=calmar_ratio(portfolio_1[day_1:day_2])\n",
    "calmar_4=calmar_ratio(portfolio_2[day_1:day_2])\n",
    "calmar_5=calmar_ratio(portfolio_3[day_1:day_2])\n",
    "print(\"中证500在{}至{}间的Calmar比率为\".format(day_1,day_2),\"%.2f\"% calmar_1)\n",
    "print(\"上证国债在{}至{}间的Calmar比率为\".format(day_1,day_2),\"%.2f\"% calmar_2)\n",
    "print(\"4股6债在{}至{}间的Calmar比率为\".format(day_1,day_2),\"%.2f\"% calmar_3)\n",
    "print(\"3股7债在{}至{}间的Calmar比率为\".format(day_1,day_2),\"%.2f\"% calmar_4)\n",
    "print(\"2股8债在{}至{}间的Calmar比率为\".format(day_1,day_2),\"%.2f\"% calmar_5)"
   ]
  }
 ],
 "metadata": {
  "kernelspec": {
   "display_name": "Python 3.9.5 64-bit",
   "language": "python",
   "name": "python3"
  },
  "language_info": {
   "codemirror_mode": {
    "name": "ipython",
    "version": 3
   },
   "file_extension": ".py",
   "mimetype": "text/x-python",
   "name": "python",
   "nbconvert_exporter": "python",
   "pygments_lexer": "ipython3",
   "version": "3.9.5"
  },
  "orig_nbformat": 4,
  "vscode": {
   "interpreter": {
    "hash": "99add6b65247b99a2f92c301413ad37b0d5c0c9521f97909fa079f739bacb893"
   }
  }
 },
 "nbformat": 4,
 "nbformat_minor": 2
}
