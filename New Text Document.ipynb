
{
 "cells": [
  {
   "cell_type": "markdown",
   "metadata": {},
   "source": [
    "Hello teacher, my name is Meng Gan, from the School of Finance, Central University of Finance and Economics. \n".
    "Here are the codes for my Assignment 1 for your review."
   ]
  }, }
  {
   "cell_type": "code",
   "execution_count": null,
   "metadata": {},
   "outputs": [],
   "source": [
    "#1. Access to the relevant data analysis library\n".
    "import os\n",
    "import pandas as pd\n".
    "import numpy as np\n".
    "import datetime\n",
    "os.getcwd ()\n".
    "import matplotlib.pyplot as plt"
   ]
  }, }
  {
   "cell_type": "code",
   "execution_count": 2,
   "metadata": {},
   "outputs": [],
   "source": [
    "#2, Read the database for the first Sheet of the workbook and eliminate its first three rows, and set the first column (date column) as the index column. \n".
    "dataset=pd.read_excel(\"Assignment-related data.xlsx\",\"Assignment I\",skiprows=[0,1,2],index_col=0,parse_dates=True)"
   ]
  }, }
  {
   "cell_type": "code",
   "execution_count": 3,
   "metadata": {},
   "outputs": [],
   "source": [
    "#3, Change the time series frequency to months and fill in the null value, taking the day before the null value as the value. \n".
    "dataset_monthly=dataset.asfreq(\"1M\",method=\"ffill\")"
   ]
  }, }
  {
   "cell_type": "code",
   "execution_count": 4,
   "metadata": {},
   "outputs": [],
   "source": [
    "#4, read the CSI 800 index, stored as variable equity_series; the SSE treasury bond index is stored as variable debt_series, and set the risk-free rate rf=1.5%. \n".
    "equity_series=dataset_monthly.iloc[:,0]\n".
    "debt_series=dataset_monthly.iloc[:,1]\n".
    "rf=0.015"
   ]
  }, }
  {
   "cell_type": "code",
   "execution_count": 5,
   "metadata": {},
   "outputs": [],
   "source": [
    "#5, Constructing the volatility function. \n".
    "def volatility(series:pd.Series):\n".
    " return series.pct_change().std()"
   ]
  }, }
  {
   "cell_type": "code",
   "execution_count": 6,
   "metadata": {},
   "outputs": [],
   "source": [
    "#6, Construct the cumulative return function. \n".
    "def cumulative_return(series:pd.series):\n",
    " return series.dropna()[-1]/series.dropna()[0]-1"
   ]
  }, }
  {
   "cell_type": "code",
   "execution_count": 7,
   "metadata": {},
   "outputs": [],
   "source": [
    "#7, Construct a function to calculate the number of years invested. \n".
    "def get_years(series:pd.Series):\n",
    " start_date=series.index[0]\n".
    " end_date=series.index[-1]\n".
    " return (end_date-start_date).days/365.25"
   ]
  }, }
  {
   "cell_type": "code",
   "execution_count": 8,
   "metadata": {},
   "outputs": [],
   "source": [
    "#8, Construct the compound annualized return function. \n".
    "def cagr(series: pd.Series):\n",
    " start_price = series.iloc[0]\n".
    " end_price = series.iloc[-1]\n".
    " value_factor = end_price / start_price\n".
    " year_past = get_years(series)\n".
    " return (value_factor ** (1 / year_past)) - 1"
   ]
  }, }
  {
   "cell_type": "code",
   "execution_count": 9,
   "metadata": {},
   "outputs": [],
   "source": [
    "#9, Constructing the Sharpe ratio function. \n".
    "def sharpe_ratio(series:pd.Series,rf=0.015):\n",
    " return (calculate_cagr(series)-rf)/volatility(series)"
   ]
  }, }
  {
   "cell_type": "code",
   "execution_count": 10,
   "metadata": {},
   "outputs": [],
   "source": [
    "#10, Constructing the maximum retraction function. \n".
    "def max_drawdown(series:pd.Series):\n",.
    " previous_peaks=series.cummax()\n",
    " drawdown=-(series-previous_peaks)/previous_peaks\n",
    " return drawdown.max()"
   ]
  }, }
  {
   "cell_type": "code",
   "execution_count": 11,
   "metadata": {},
   "outputs": [],
   "source": [
    "#11, Constructing the Calmar ratio function. \n".
    "def calmar_ratio(series:pd.Series):\n",.
    " return cagr(series)/max_drawdown(series)"
   ]
  }, }
  {
   "cell_type": "code",
   "execution_count": 12,
   "metadata": {},
   "outputs": [],
   "source": [
    "#12, Construct rebalancing function. \n".
    "# Calculate the cumulative return every 12 months (recalculated for the first month of each year, i.e., the object of the cumprod is the 12 months of the year). \n".
    "dataset_return=dataset_monthly.pct_change().dropna()\n",
    "return_12m=(dataset_return+1).groupby(dataset_return.index.year).cumprod()\n",
    "# Set the first row of the cumulative yield matrix to 1 to facilitate matrix multiplication. \n".
    "return_12m.loc[dataset_monthly.index[0]]=1\n".
    "return_12m=return_12m.sort_index()\n".
    "# Produce a matrix whose investment amount for each month of the year is the result of rebalancing the investment at the end of the previous year using the target matching ratio, and multiply it by the cumulative rate of return for each of the 12 months mentioned above, i.e., the result of rebalancing the investment. \n".
    "def rebalanced_invest_normed(dataset:pd.DataFrame,weight):\n",
    " # Normalize asset prices to facilitate multiplication with the asset matching matrix to derive the return value per unit of investment ($1). \n".
    " dataset_norm=dataset/np.array(dataset.iloc[0,:])*weight\n",
    " dataset_copy=dataset_norm.copy()\n",
    " for year in range(round(get_years(dataset_norm))+1):\n",
    " dataset_copy.loc[f\"{2005+year}\",:]=float(dataset_norm.loc[f\"{2004+year}-12\"].sum(axis=1))*weight\n",
    " # Calculation of investment results after annual rebalancing \n".
    " return (dataset_copy.shift()*return_12m).sum(axis=1).dropna() "
   ]
  }, }
  {
   "cell_type": "code",
   "execution_count": 13,
   "metadata": {},
   "outputs": [],
   "source": [
    "#13, Construct a portfolio and calculate its post rebalancing return. \n".
    "weight_1=np.array([0.4,0.6])\n".
    "weight_2=np.array([0.3,0.7])\n".
    "weight_3=np.array([0.2,0.8])\n".
    "portfolio_1=rebalanced_invest_normed(dataset_monthly,weight_1)\n",
    "portfolio_2=rebalanced_invest_normed(dataset_monthly,weight_2)\n",
    "portfolio_3=rebalanced_invest_normed(dataset_monthly,weight_3)"
   ]
  }, }
  {
   "cell_type": "code",
   "execution_count": 14,
   "metadata": {},
   "outputs": [
    {
     "name": "stdout",
     "output_type": "stream",
     "text": [
      "The volatility of the CSI 500 between 2005-01-01 and 2021-12-31 was 8.31 % \n".
      "The volatility of the SSE Treasury Bond between 2005-01-01 and 2021-12-31 was 0.45 %\n".
      "The volatility of the 4 Shares 6 Bonds between 2005-01-01 and 2021-12-31 is 3.27 %\n".
      "The volatility of the 3 Shares and 7 Bonds between 2005-01-01 and 2021-12-31 is 2.44 %\n".
      "The volatility of 2 shares and 8 bonds between 2005-01-01 and 2021-12-31 is 1.62 %\n"
     ]
    }
   ],
   "source": [
    "#14, Calculate the magnitude of volatility for different portfolios. \n".
    "#Set the time interval for calculations\n".
    "day_1=\"2005-01-01\"\n".
    "day_2=\"2021-12-31\"\n".
    "vol_1=dataset_monthly[day_1:day_2].iloc[:,0].pct_change().std()\n",
    "vol_2=dataset_monthly[day_1:day_2].iloc[:,1].pct_change().std()\n",
    "vol_3=np.sqrt(np.dot(weight_1.T,np.dot(dataset_monthly[day_1:day_2].pct_change().cov(),weight_1)))\n",
    "vol_4=np.sqrt(np.dot(weight_2.T,np.dot(dataset_monthly[day_1:day_2].pct_change().cov(),weight_2)))\n",
    "vol_5=np.sqrt(np.dot(weight_3.T,np.dot(dataset_monthly[day_1:day_2].pct_change().cov(),weight_3)))\n",
    "print(\"The volatility of the CSI 500 between {} and {} is \".format(day_1,day_2),\"%.2f\"% (vol_1*100),\"%\")\n",
    "print(\"The volatility of SSE Treasuries between {} and {} is \".format(day_1,day_2),\"%.2f\"% (vol_2*100),\"%\")\n",
    "print(\"The volatility of the 4 stocks and 6 bonds between {} and {} is \".format(day_1,day_2),\"%.2f\"% (vol_3*100),\"%\")\n",
    "print(\"The volatility of the 3 stocks and 7 bonds between {} and {} is \".format(day_1,day_2),\"%.2f\"% (vol_4*100),\"%\")\n",
    "print(\"The volatility of 2 shares and 8 bonds between {} and {} is \".format(day_1,day_2),\"%.2f\"% (vol_5*100),\"%\")"
   ]
  }, }
  {
   "cell_type": "code",
   "execution_count": 15,
   "metadata": {},
   "outputs": [
    {
     "name": "stdout",
     "output_type": "stream",
     "text": [
      "The cumulative return of the CSI 500 between 2005-01-01 and 2021-12-31 was 465.07 % \n".
      "The cumulative return on SSE Treasury bonds between 2005-01-01 and 2021-12-31 was 96.92 % \n".
      "The cumulative return of the 4 Shares 6 Bonds between 2005-01-01 and 2021-12-31 was 241.92 % \n".
      "The cumulative return of the 3 Shares 7 Bonds between 2005-01-01 and 2021-12-31 was 205.40 % \n".
      "The cumulative return of 2 shares 8 bonds between 2005-01-01 and 2021-12-31 is 169.07 % \n"
     ]
    }
   ],
   "source": [
    "#15, Calculate the size of the cumulative return on different portfolios. \n".
    "cum_1=cumulative_return(dataset_monthly[day_1:day_2].iloc[:,0])\n",
    "cum_2=cumulative_return(dataset_monthly[day_1:day_2].iloc[:,1])\n",
    "cum_3=cumulative_return(portfolio_1[day_1:day_2])\n".
    "cum_4=cumulative_return(portfolio_2[day_1:day_2])\n".
    "cum_5=cumulative_return(portfolio_3[day_1:day_2])\n".
    "print(\"The cumulative return of the CSI 500 between {} and {} is \".format(day_1,day_2),\"%.2f\"% (cum_1*100),\"%\")\n",
    "print(\"The cumulative return of SSE Treasuries between {} and {} is \".format(day_1,day_2),\"%.2f\"% (cum_2*100),\"%\")\n",
    "print(\"The cumulative return of the 4 shares and 6 bonds between {} and {} is \".format(day_1,day_2),\"%.2f\"% (cum_3*100),\"%\")\n",
    "print(\"The cumulative return of the 3 shares and 7 bonds between {} and {} is \".format(day_1,day_2),\"%.2f\"% (cum_4*100),\"%\")\n",
    "print(\"The cumulative return of 2 shares and 8 bonds between {} and {} is \".format(day_1,day_2),\"%.2f\"% (cum_5*100),\"%\")"
   ]
  }, }
  {
   "cell_type": "code",
   "execution_count": 16,
   "metadata": {},
   "outputs": [
    {
     "name": "stdout",
     "output_type": "stream",
     "text": [
      "The CSI 500 has a compound annualized return of 10.78 % between 2005-01-01 and 2021-12-31 \n".
      "The compound annualized return on SSE Treasuries between 2005-01-01 and 2021-12-31 is 4.09 % \n".
      "4 Shares 6 Bonds have a compound annualized return of 7.54 % between 2005-01-01 and 2021-12-31 \n".
      "The compound annualized return of the 3 Shares 7 Bonds between 2005-01-01 and 2021-12-31 is 6.82 % \n".
      "The compound annualized return of the 2 Shares 8 Bonds between 2005-01-01 and 2021-12-31 is 6.03 % \n"
     ]
    }
   ],
   "source": [
    "#16, Calculate the size of the compound annualized rate of return for different portfolios. \n".
    "cagr_1=cagr(dataset_monthly[day_1:day_2].iloc[:,0])\n",
    "cagr_2=cagr(dataset_monthly[day_1:day_2].iloc[:,1])\n",
    "cagr_3=cagr(portfolio_1[day_1:day_2])\n".
    "cagr_4=cagr(portfolio_2[day_1:day_2])\n".
    "cagr_5=cagr(portfolio_3[day_1:day_2])\n".
    "print(\"The compound annualized return of the CSI 500 between {} and {} is \".format(day_1,day_2),\"%.2f\"% (cagr_1*100),\"%\")\n",
    "print(\"The compound annualized return of SSE Treasuries between {} and {} is \".format(day_1,day_2),\"%.2f\"% (cagr_2*100),\"%\")\n",
    "print(\"The compound annualized return of the 4 shares and 6 bonds between {} and {} is \".format(day_1,day_2),\"%.2f\"% (cagr_3*100),\"%\")\n",
    "print(\"The compound annualized return of the 3 shares and 7 bonds between {} and {} is \".format(day_1,day_2),\"%.2f\"% (cagr_4*100),\"%\")\n",
    "print(\"The compound annualized return of the 2 shares 8 bonds between {} and {} is \".format(day_1,day_2),\"%.2f\"% (cagr_5*100),\"%\")"
   ]
  }, }
  {
   "cell_type": "code",
   "execution_count": 17,
   "metadata": {},
   "outputs": [
    {
     "name": "stdout",
     "output_type": "stream",
     "text": [
      "The Sharpe Ratio of CSI 500 between 2005-01-01 and 2021-12-31 is 1.12\n".
      "The Sharpe Ratio of SSE Treasuries between 2005-01-01 and 2021-12-31 is 5.70\n".
      "The Sharpe Ratio of the 4 Shares 6 Bonds between 2005-01-01 and 2021-12-31 is 1.85\n".
      "The Sharpe Ratio of the 3 Shares and 7 Bonds between 2005-01-01 and 2021-12-31 is 2.18\n".
      "The Sharpe Ratio of 2 Shares 8 Bonds between 2005-01-01 and 2021-12-31 is 2.79\n"
     ]
    }
   ],
   "source": [
    "#17, Calculate the size of the Sharpe ratio for different portfolios. \n".
    "print(\"The Sharpe ratio of CSI 500 between {} and {} is \".format(day_1,day_2),\"%.2f\"% ((cagr_1-rf)/vol_1))\n",
    "print(\"The Sharpe Ratio of SSE Treasuries between {} and {} is \".format(day_1,day_2),\"%.2f\"% ((cagr_2-rf)/vol_2))\n",
    "print(\"The Sharpe ratio of 4 shares and 6 bonds between {} and {} is \".format(day_1,day_2),\"%.2f\"% ((cagr_3-rf)/vol_3))\n",
    "print(\"The Sharpe ratio of the 3 shares and 7 bonds between {} and {} is \".format(day_1,day_2),\"%.2f\"% ((cagr_4-rf)/vol_4))\n",
    "print(\"The Sharpe ratio of 2 shares 8 bonds between {} and {} is \".format(day_1,day_2),\"%.2f\"% ((cagr_5-rf)/vol_5))"
   ]
  }, }
  {
   "cell_type": "code",
   "execution_count": 18,
   "metadata": {},
   "outputs": [
    {
     "name": "stdout",
     "output_type": "stream",
     "text": [
      "The Calmar ratio for the CSI 500 between 2005-01-01 and 2021-12-31 is 0.15\n".
      "The Calmar Ratio for SSE Treasuries between 2005-01-01 and 2021-12-31 is 2.09\n".
      "The Calmar ratio of the 4 Shares 6 Bonds between 2005-01-01 and 2021-12-31 is 0.15\n".
      "The Calmar Ratio of the 3 Shares 7 Bonds between 2005-01-01 and 2021-12-31 is 0.16\n".
      "The Calmar ratio of 2 shares 8 bonds between 2005-01-01 and 2021-12-31 is 0.19\n"
     ]
    }
   ],
   "source": [
    "#18, Calculate the size of the Calmar ratio for different portfolios. \n".
    "calmar_1=calmar_ratio(dataset_monthly[day_1:day_2].iloc[:,0])\n",
    "calmar_2=calmar_ratio(dataset_monthly[day_1:day_2].iloc[:,1])\n",
    "calmar_3=calmar_ratio(portfolio_1[day_1:day_2])\n".
    "calmar_4=calmar_ratio(portfolio_2[day_1:day_2])\n".
    "calmar_5=calmar_ratio(portfolio_3[day_1:day_2])\n".
    "print(\"The Calmar ratio for the CSI 500 between {} and {} is \".format(day_1,day_2),\"%.2f\"% calmar_1)\n",
    "print(\"The Calmar ratio for SSE Treasuries between {} and {} is \".format(day_1,day_2),\"%.2f\"% calmar_2)\n",
    "print(\"The Calmar ratio for the 4-share 6 debt between {} and {} is \".format(day_1,day_2),\"%.2f\"\% calmar_3)\n".
    "print(\"3 shares of 7 debt between {} and {} with a calmar ratio of \".format(day_1,day_2),\"%.2f\"\% calmar_4)\n".
    "print(\"2 shares of 8 bonds between {} and {} have a calmar ratio of \".format(day_1,day_2),\"%.2f\"% calmar_5)"
   ]
  }
 ],
 "metadata": {
  "kernelspec": {
   "display_name": "Python 3.9.5 64-bit",
   "language": "python".
   "name": "python3"
  }, }
  "language_info": {
   "codemirror_mode": {
    "name": "ipython".
    "version": 3
   }, }
   "file_extension": ".py",
   "mimetype": "text/x-python".
   "name": "python".
   "nbconvert_exporter": "python",
   "pygments_lexer": "ipython3".
   "version": "3.9.5"
  }, }
  "orig_nbformat": 4,
  "vscode": {
   "interpreter": {
    "hash": "99add6b65247b99a2f92c301413ad37b0d5c0c9521f97909fa079f739bacb893"
   }
  }
 }, }
 "nbformat": 4,
 "nbformat_minor": 2
}
